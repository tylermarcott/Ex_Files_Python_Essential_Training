{
 "cells": [
  {
   "cell_type": "markdown",
   "id": "62ce1d82",
   "metadata": {},
   "source": [
    "# Title\n",
    "## Smaller Title"
   ]
  },
  {
   "cell_type": "markdown",
   "id": "12d15452",
   "metadata": {},
   "source": [
    "\\begin{equation}\n",
    "e^x=\\sum_{i=0}^\\infty \\frac{1}{i!}x^i\n",
    "\\end{equation}"
   ]
  },
  {
   "cell_type": "markdown",
   "id": "80ea507c",
   "metadata": {},
   "source": [
    "-   to make new cells, press shift enter. Can do this multiple times while holding shift\n",
    "-   to delete cell, click outside cell so it turns blue and press d d (d twice)\n",
    "-   when you click outside cell and the box is blue, you are in command mode. If you click inside cell and see green, you are in edit mode\n",
    "-   to run code, press shift + enter while in edit mode\n",
    "-   while in command mode, press a to create 'a' cell ABOVE the highlighted cell, and 'b' to create cell BELOW highlighted cell\n",
    "-   going into command mode and pressing m lets you got into markdown mode, which is this file\n",
    "    -   allows for human readable text\n",
    "    -   also used for entering equations, looks like they use Latex syntax to create these equations too which is cool!\n",
    "- see Jupyter notebooks docs to see all of the stuff you can create, like different sized titles etc"
   ]
  },
  {
   "cell_type": "code",
   "execution_count": 1,
   "id": "ab0b33ee",
   "metadata": {},
   "outputs": [
    {
     "name": "stdout",
     "output_type": "stream",
     "text": [
      "Doing some data science!\n"
     ]
    }
   ],
   "source": [
    "print('Doing some data science!')"
   ]
  },
  {
   "cell_type": "code",
   "execution_count": null,
   "id": "c5ad1088",
   "metadata": {},
   "outputs": [],
   "source": []
  },
  {
   "cell_type": "code",
   "execution_count": 3,
   "id": "70df0832",
   "metadata": {},
   "outputs": [
    {
     "name": "stdout",
     "output_type": "stream",
     "text": [
      "2\n"
     ]
    }
   ],
   "source": [
    "print(1 + 1)"
   ]
  },
  {
   "cell_type": "code",
   "execution_count": null,
   "id": "23519052",
   "metadata": {},
   "outputs": [],
   "source": []
  }
 ],
 "metadata": {
  "kernelspec": {
   "display_name": "Python 3.10.4 64-bit",
   "language": "python",
   "name": "python3"
  },
  "language_info": {
   "codemirror_mode": {
    "name": "ipython",
    "version": 3
   },
   "file_extension": ".py",
   "mimetype": "text/x-python",
   "name": "python",
   "nbconvert_exporter": "python",
   "pygments_lexer": "ipython3",
   "version": "3.12.2"
  },
  "vscode": {
   "interpreter": {
    "hash": "949777d72b0d2535278d3dc13498b2535136f6dfe0678499012e853ee9abcab1"
   }
  }
 },
 "nbformat": 4,
 "nbformat_minor": 5
}
